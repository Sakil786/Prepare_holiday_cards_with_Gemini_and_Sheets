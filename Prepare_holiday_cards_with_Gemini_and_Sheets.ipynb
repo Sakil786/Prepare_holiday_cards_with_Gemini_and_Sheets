{
  "nbformat": 4,
  "nbformat_minor": 0,
  "metadata": {
    "colab": {
      "provenance": [],
      "gpuType": "T4"
    },
    "kernelspec": {
      "name": "python3",
      "display_name": "Python 3"
    },
    "language_info": {
      "name": "python"
    },
    "accelerator": "GPU"
  },
  "cells": [
    {
      "cell_type": "code",
      "execution_count": 1,
      "metadata": {
        "colab": {
          "base_uri": "https://localhost:8080/"
        },
        "id": "p0a8_inGes14",
        "outputId": "5326a22d-a91d-46ca-a7cb-37fd95b92a6d"
      },
      "outputs": [
        {
          "output_type": "stream",
          "name": "stdout",
          "text": [
            "\u001b[2K     \u001b[90m━━━━━━━━━━━━━━━━━━━━━━━━━━━━━━━━━━━━━━━━\u001b[0m \u001b[32m146.6/146.6 kB\u001b[0m \u001b[31m1.2 MB/s\u001b[0m eta \u001b[36m0:00:00\u001b[0m\n",
            "\u001b[2K     \u001b[90m━━━━━━━━━━━━━━━━━━━━━━━━━━━━━━━━━━━━━━━━\u001b[0m \u001b[32m598.7/598.7 kB\u001b[0m \u001b[31m1.5 MB/s\u001b[0m eta \u001b[36m0:00:00\u001b[0m\n",
            "\u001b[?25h"
          ]
        }
      ],
      "source": [
        "!pip install -q -U google-generativeai"
      ]
    },
    {
      "cell_type": "code",
      "source": [
        "#@title Authenticate and grant Colab access to your spreadsheets for this session\n",
        "\n",
        "from google.colab import auth\n",
        "auth.authenticate_user()\n",
        "\n",
        "import gspread\n",
        "from google.auth import default\n",
        "creds, _ = default()\n",
        "\n",
        "gc = gspread.authorize(creds)"
      ],
      "metadata": {
        "id": "t0y8aXiXezFV"
      },
      "execution_count": 18,
      "outputs": []
    },
    {
      "cell_type": "code",
      "source": [
        "#@title Configure Gemini API key\n",
        "\n",
        "#Access your Gemini API key\n",
        "\n",
        "!pip install -q -U google-generativeai\n",
        "import google.generativeai as genai\n",
        "from google.colab import userdata\n",
        "\n",
        "gemini_api_secret_name = 'GOOGLE_API_KEY'\n",
        "\n",
        "try:\n",
        "  GOOGLE_API_KEY=userdata.get(gemini_api_secret_name)\n",
        "  genai.configure(api_key=GOOGLE_API_KEY)\n",
        "except userdata.SecretNotFoundError as e:\n",
        "   print(f'''Secret not found\n",
        "\n",
        "This expects you to create a secret named {gemini_api_secret_name} in Colab\n",
        "\n",
        "Visit https://makersuite.google.com/app/apikey to create an API key\n",
        "\n",
        "Store that in the secrets section on the left side of the notebook (key icon)\n",
        "\n",
        "Name the secret {gemini_api_secret_name}''')\n",
        "   raise e\n",
        "except userdata.NotebookAccessError as e:\n",
        "  print(f'''You need to grant this notebook access to the {gemini_api_secret_name} secret in order for the notebook to access Gemini on your behalf.''')\n",
        "  raise e\n",
        "except Exception as e:\n",
        "  # unknown error\n",
        "  print(f\"There was an unknown error. Ensure you have a secret {gemini_api_secret_name} stored in Colab and it's a valid key from https://makersuite.google.com/app/apikey\")\n",
        "  raise e\n",
        "\n",
        "model = genai.GenerativeModel('gemini-pro')"
      ],
      "metadata": {
        "id": "menfcNrDgd-S"
      },
      "execution_count": 19,
      "outputs": []
    },
    {
      "cell_type": "code",
      "source": [
        "#@title Enter the name of a spreadsheet to import\n",
        "\n",
        "spreadsheet_url = \"https://docs.google.com/spreadsheets/d/1z0DduKcOfwMOEiUWxvMCFAUEZFubQK3SretL0q0l5O0/edit?usp=sharing\"\n",
        "\n",
        "worksheet = gc.open_by_url(spreadsheet_url).sheet1\n",
        "\n",
        "# get_all_values gives a list of rows.\n",
        "rows = worksheet.get_all_values()\n",
        "print(rows[0:5])"
      ],
      "metadata": {
        "colab": {
          "base_uri": "https://localhost:8080/"
        },
        "id": "DI1Uqh4ye5lK",
        "outputId": "97038a6f-3515-4a95-83b6-82285f16de66"
      },
      "execution_count": 21,
      "outputs": [
        {
          "output_type": "stream",
          "name": "stdout",
          "text": [
            "[['Name', 'Relationship', 'Style'], ['Rohan', 'Brother', 'Sincere'], ['Venky', 'Brother', 'Funny'], ['Husnain', 'Colleague', 'Wish'], ['Sufyan', 'Friend', 'joy']]\n"
          ]
        }
      ]
    },
    {
      "cell_type": "code",
      "source": [],
      "metadata": {
        "id": "-SJVAEW7gUFg"
      },
      "execution_count": 13,
      "outputs": []
    },
    {
      "cell_type": "code",
      "source": [
        "#@title Use Gemini to suggest what to say on a Christmas note\n",
        "\n",
        "rows[0].append('Note')\n",
        "\n",
        "#skip the title row\n",
        "for row in rows[1:]:\n",
        "  prompt = \"I'm writing Christmas cards. Can you suggest a short meaningful paragraph of text for a Christmas note? I'm writing a note to %s my %s and I'd like the style to be %s.\" % (row[0], row[1], row[2])\n",
        "\n",
        "  response = model.generate_content(prompt)\n",
        "  row.append(response.text)\n",
        "\n",
        "#print out the results nicely\n",
        "from IPython.display import Markdown\n",
        "import textwrap\n",
        "\n",
        "def to_markdown(text):\n",
        "  text = text.replace('•', '  *')\n",
        "  return Markdown(textwrap.indent(text, '> ', predicate=lambda _: True))\n",
        "\n",
        "to_markdown(''.join([row[3]+'\\n\\n' for row in rows[1:]]))"
      ],
      "metadata": {
        "colab": {
          "base_uri": "https://localhost:8080/",
          "height": 405
        },
        "id": "8CF7YQ-zfZY6",
        "outputId": "5286e299-e4a5-456d-b06c-140c7dfcb8ad"
      },
      "execution_count": 22,
      "outputs": [
        {
          "output_type": "execute_result",
          "data": {
            "text/plain": [
              "<IPython.core.display.Markdown object>"
            ],
            "text/markdown": "> Dear Rohan, my dearest brother, as this festive season envelops us with warmth and cheer, I extend my heartfelt Christmas greetings to you. May this Christmas bring you an abundance of joy, peace, and love. As we gather around the Christmas tree, let us cherish the cherished memories we share and forge new ones that will last a lifetime. Embrace the magic of this season and let it reignite the bond we hold so dear. Merry Christmas, my brother!\n> \n> \"Dear Venky,\n> \n> So here we are again at Christmas. I can hardly believe another year has flown by. It's like the older you get, the faster time goes, huh? It amazes me how we've managed to make it through another twelve months, especially given all the crazy stuff that's been going on in the world. It's a reminder that we are capable of weathering any storm, as long as we have each other. You are my constant and most valued treasure. I hope you're aware of how much you mean to me and that you're worth more to me than a room full of presents. Jokes aside, I sincerely wish this Christmas brings you as much joy and contentment as you bring into my life. You're the best brother anyone could ask for, except for the occasional nose-picking. But hey, nobody's perfect, right? Merry Christmas, Venky! Love you to the North Pole and back!\"\n> \n> Dear Husnain,\n> Wishing you a Merry Christmas and a fantastic holiday season! I am so grateful to have a wonderful colleague like you, who makes work so much more enjoyable. Your positive attitude and strong work ethic are an inspiration to us all. I hope you have an amazing time with your loved ones, full of warmth, laughter, and joy. May the magic of Christmas bring you happiness, success, and fulfillment in the coming year. Warmest wishes to you and your family.\n> \n> Best regards,\n> \n> As the cheerful season embraces us, let's celebrate the love and goodwill that Christmas brings. Sufyan, you are a true friend, and every moment with you brings joy to my heart. May this Christmas be a joyful ride for us, creating memories that will last forever. Let's be thankful for the blessings we have and may our friendship continue to grow and spread warmth, just like the spirit of Christmas. Best wishes for a memorable Christmas and a bright, blessed New Year!\n> \n"
          },
          "metadata": {},
          "execution_count": 22
        }
      ]
    },
    {
      "cell_type": "code",
      "source": [
        "#@title Write the notes back to your spreadsheet\n",
        "\n",
        "#this chooses which column to write to\n",
        "col = len(rows[0])\n",
        "start_cell = chr(col + 64) + '1'\n",
        "\n",
        "#write the column\n",
        "try:\n",
        "  worksheet.update(start_cell, [[row[3]] for row in rows])\n",
        "except Exception as e:\n",
        "  print('There was an error writing to your spreadsheet. Make sure you have permissions to edit the spreadsheet.')\n",
        "  raise e"
      ],
      "metadata": {
        "id": "f2pcBVKdgQO-"
      },
      "execution_count": 23,
      "outputs": []
    },
    {
      "cell_type": "code",
      "source": [],
      "metadata": {
        "id": "5tiKH2kHjEwx"
      },
      "execution_count": null,
      "outputs": []
    }
  ]
}